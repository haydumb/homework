{
 "cells": [
  {
   "cell_type": "code",
   "execution_count": 3,
   "id": "eccc0c1c-b11f-40a2-b158-ad3e0a7d5816",
   "metadata": {},
   "outputs": [
    {
     "name": "stdout",
     "output_type": "stream",
     "text": [
      "Sample shape: (569, 30)\n",
      "Target shape: (569,)\n",
      "Training set shape: (426, 30)\n",
      "Testing set shape: (143, 30)\n",
      "Accuracy: 0.95\n",
      "[[44  6]\n",
      " [ 1 92]]\n",
      "              precision    recall  f1-score   support\n",
      "\n",
      "           0       0.98      0.88      0.93        50\n",
      "           1       0.94      0.99      0.96        93\n",
      "\n",
      "    accuracy                           0.95       143\n",
      "   macro avg       0.96      0.93      0.94       143\n",
      "weighted avg       0.95      0.95      0.95       143\n",
      "\n"
     ]
    },
    {
     "data": {
      "image/png": "[encoded data removed]",
      "text/plain": [
       "<Figure size 640x480 with 2 Axes>"
      ]
     },
     "metadata": {},
     "output_type": "display_data"
    },
    {
     "name": "stdout",
     "output_type": "stream",
     "text": [
      "Mean accuracy: 0.94\n",
      "Standard deviation: 0.03\n",
      "          GaussianNB: mean accuracy=0.94 standard deviation=0.03\n",
      "KNeighborsClassifier: mean accuracy=0.93 standard deviation=0.02\n",
      "  LogisticRegression: mean accuracy=0.95 standard deviation=0.03\n",
      "                 SVC: mean accuracy=0.92 standard deviation=0.04\n"
     ]
    }
   ],
   "source": [
    "from sklearn.datasets import load_breast_cancer\n",
    "\n",
    "breast_cancer = load_breast_cancer()\n",
    "print(f'Sample shape: {breast_cancer.data.shape}')\n",
    "print(f'Target shape: {breast_cancer.target.shape}')\n",
    "from sklearn.model_selection import train_test_split\n",
    "\n",
    "X_train, X_test, y_train, y_test = train_test_split(breast_cancer.data, breast_cancer.target, random_state=11)\n",
    "print(f'Training set shape: {X_train.shape}')\n",
    "print(f'Testing set shape: {X_test.shape}')\n",
    "from sklearn.naive_bayes import GaussianNB\n",
    "\n",
    "nb = GaussianNB()\n",
    "nb.fit(X_train, y_train)\n",
    "predicted = nb.predict(X_test)\n",
    "accuracy = nb.score(X_test, y_test)\n",
    "print(f'Accuracy: {accuracy:.2f}')\n",
    "from sklearn.metrics import confusion_matrix, classification_report\n",
    "\n",
    "print(confusion_matrix(y_test, predicted))\n",
    "print(classification_report(y_test, predicted))\n",
    "import seaborn as sns\n",
    "import matplotlib.pyplot as plt\n",
    "\n",
    "matrix = confusion_matrix(y_test, predicted)\n",
    "sns.heatmap(matrix, annot=True, cmap='Blues')\n",
    "plt.xlabel('Predicted')\n",
    "plt.ylabel('Actual')\n",
    "plt.show()\n",
    "from sklearn.model_selection import KFold, cross_val_score\n",
    "\n",
    "kfold = KFold(n_splits=10, random_state=11, shuffle=True)\n",
    "scores = cross_val_score(estimator=nb, X=breast_cancer.data, y=breast_cancer.target, cv=kfold)\n",
    "print(f'Mean accuracy: {scores.mean():.2f}')\n",
    "print(f'Standard deviation: {scores.std():.2f}')\n",
    "from sklearn.neighbors import KNeighborsClassifier\n",
    "from sklearn.linear_model import LogisticRegression\n",
    "from sklearn.svm import SVC\n",
    "\n",
    "estimators = {\n",
    "    'GaussianNB': nb,\n",
    "    'KNeighborsClassifier': KNeighborsClassifier(),\n",
    "    'LogisticRegression': LogisticRegression(solver='lbfgs', multi_class='ovr', max_iter=10000),\n",
    "    'SVC': SVC(gamma='scale')\n",
    "}\n",
    "\n",
    "for estimator_name, estimator_object in estimators.items():\n",
    "    kfold = KFold(n_splits=10, random_state=11, shuffle=True)\n",
    "    scores = cross_val_score(estimator=estimator_object, X=breast_cancer.data, y=breast_cancer.target, cv=kfold)\n",
    "    print(f'{estimator_name:>20}: ' + f'mean accuracy={scores.mean():.2f} standard deviation={scores.std():.2f}')\n"
   ]
  },
  {
   "cell_type": "code",
   "execution_count": null,
   "id": "2be4f11f-7b18-40e7-8ccc-2e203564daa6",
   "metadata": {},
   "outputs": [],
   "source": []
  }
 ],
 "metadata": {
  "kernelspec": {
   "display_name": "Python 3 (ipykernel)",
   "language": "python",
   "name": "python3"
  },
  "language_info": {
   "codemirror_mode": {
    "name": "ipython",
    "version": 3
   },
   "file_extension": ".py",
   "mimetype": "text/x-python",
   "name": "python",
   "nbconvert_exporter": "python",
   "pygments_lexer": "ipython3",
   "version": "3.9.13"
  }
 },
 "nbformat": 4,
 "nbformat_minor": 5
}
